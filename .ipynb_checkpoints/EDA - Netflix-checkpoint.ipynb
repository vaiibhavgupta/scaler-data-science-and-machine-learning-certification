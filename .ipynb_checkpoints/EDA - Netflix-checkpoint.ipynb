{
 "cells": [
  {
   "cell_type": "code",
   "execution_count": null,
   "metadata": {},
   "outputs": [],
   "source": [
    "from IPython.display import display, HTML\n",
    "display(HTML(\"<style>.container { width:90% !important; }</style>\"))"
   ]
  },
  {
   "cell_type": "markdown",
   "metadata": {},
   "source": [
    "<span style=\"font-family: monospace\">\n",
    "\n",
    "## Business Problem\n",
    "\n",
    "<span style=\"font-size: 12px\">\n",
    "Analyze the data and generate insights that could help Netflix in deciding which type of shows/movies to produce and how they can grow the business in different countries.\n",
    "</span>\n",
    "\n",
    "## Hints\n",
    "\n",
    "<span style=\"font-size: 12px\">\n",
    "1. The exploration should have a goal. As you explore the data, keep in mind that you want to answer which type of shows to produce and how to grow the business.\n",
    "<br>\n",
    "2. Ensure each recommendation is backed by data. The company is looking for data-driven insights, not personal opinions or anecdotes.\n",
    "<br>\n",
    "3. Assume that you are presenting your findings to business executives who have only a basic understanding of data science. Avoid unnecessary technical jargon.\n",
    "<br>\n",
    "4. Start by exploring a few questions: What type of content is available in different countries?\n",
    "<br>\n",
    "<span style=\"padding-left: 3em\">\n",
    "    a. How has the number of movies released per year changed over the last 20-30 years?\n",
    "</span>\n",
    "<br>\n",
    "<span style=\"padding-left: 3em\">\n",
    "    b. Comparison of tv shows vs. movies.\n",
    "</span>\n",
    "<br>\n",
    "<span style=\"padding-left: 3em\">\n",
    "    c. What is the best time to launch a TV show?\n",
    "</span>\n",
    "<br>\n",
    "<span style=\"padding-left: 3em\">\n",
    "    d. Analysis of actors/directors of different types of shows/movies.\n",
    "</span>\n",
    "<br>\n",
    "<span style=\"padding-left: 3em\">\n",
    "    e. Does Netflix has more focus on TV Shows than movies in recent years.\n",
    "</span>\n",
    "<br>\n",
    "<span style=\"padding-left: 3em\">\n",
    "    f. Understanding what content is available in different countries.\n",
    "</span>\n",
    "</span>\n",
    "\n",
    "## Column Description\n",
    "\n",
    "<span style=\"font-size: 12px\">\n",
    "1. show_id      : Unique ID for every Movie / TV Show\n",
    "<br>\n",
    "2. type         : Identifier - A Movie or TV Show\n",
    "<br>\n",
    "3. title        : Title of the Movie / Tv Show\n",
    "<br>\n",
    "4. director     : Director of the Movie\n",
    "<br>\n",
    "5. cast         : Actors involved in the movie/show\n",
    "<br>\n",
    "6. country      : Country where the movie/show was produced\n",
    "<br>\n",
    "7. date_added   : Date it was added on Netflix\n",
    "<br>\n",
    "8. release_year : Actual Release year of the movie/show\n",
    "<br>\n",
    "9. rating       : TV Rating of the movie/show\n",
    "<br>\n",
    "10. duration     : Total Duration - in minutes or number of seasons\n",
    "<br>\n",
    "11. listed_in    : Genre\n",
    "<br>\n",
    "12. description  : The summary description\n",
    "</span>\n",
    "\n",
    "## Evaluation Criteria (100 Points):\n",
    "\n",
    "<span style=\"font-size: 12px\">\n",
    "1. Defining Problem Statement and Analysing basic metrics. (10 Points)\n",
    "<br>\n",
    "2. Observations on the shape of data, data types of all the attributes, conversion of categorical attributes to 'category' (If required), missing value detection, statistical summary. (10 Points)\n",
    "<br>\n",
    "3. Non-Graphical Analysis: Value counts and unique attributes. ​​(10 Points)\n",
    "<br>\n",
    "4. Visual Analysis - Univariate, Bivariate after pre-processing of the data. Note: Pre-processing involves unnesting of the data in columns like Actor, Director, Country.\n",
    "<br>\n",
    "<span style=\"padding-left: 3em\">\n",
    "    a. For continuous variable(s): Distplot, countplot, histogram for univariate analysis. (10 Points)\n",
    "</span>\n",
    "<br>\n",
    "<span style=\"padding-left: 3em\">\n",
    "    b. For categorical variable(s): Boxplot. (10 Points)\n",
    "</span>\n",
    "<br>\n",
    "<span style=\"padding-left: 3em\">\n",
    "    c. For correlation: Heatmaps, Pairplots. (10 Points)\n",
    "</span>\n",
    "<br>\n",
    "5. Missing Value & Outlier check (Treatment optional). (10 Points)\n",
    "<br>\n",
    "6. Insights based on Non-Graphical and Visual Analysis. (10 Points)\n",
    "<br>\n",
    "<span style=\"padding-left: 3em\">\n",
    "    a. Comments on the range of attributes.\n",
    "</span>\n",
    "<br>\n",
    "<span style=\"padding-left: 3em\">\n",
    "    b. Comments on the distribution of the variables and relationship between them.\n",
    "</span>\n",
    "<br>\n",
    "<span style=\"padding-left: 3em\">\n",
    "    c. Comments for each univariate and bivariate plot.\n",
    "</span>\n",
    "<br>\n",
    "7. Business Insights (10 Points) - Should include patterns observed in the data along with what you can infer from it.\n",
    "<br>\n",
    "8. Recommendations (10 Points) - Actionable items for business. No technical jargon. No complications. Simple action items that everyone can understand.\n",
    "</span>\n",
    "\n",
    "## Submission Process:\n",
    "\n",
    "<span style=\"font-size: 12px\">\n",
    "1. Type your insights and recommendations in the rich-text editor.\n",
    "<br>\n",
    "2. Convert your jupyter notebook into PDF (Save as PDF using Chrome browser’s Print command), upload it in your Google Drive (set the permission to allow public access), and paste that link in the text editor.\n",
    "<br>\n",
    "3. Alternatively, you can directly submit your PDF on the portal.\n",
    "<br>\n",
    "4. Optionally, you may add images/graphs in the text editor by taking screenshots or saving matplotlib graphs using plt.savefig(...).\n",
    "<br>\n",
    "5. After submitting, you will not be allowed to edit your submission.\n",
    "</span>\n",
    "\n",
    "</span>"
   ]
  },
  {
   "cell_type": "markdown",
   "metadata": {},
   "source": [
    "<span style=\"font-family: monospace; font-size: 40px\">\n",
    "Let's Start!\n",
    "</span>"
   ]
  },
  {
   "cell_type": "code",
   "execution_count": null,
   "metadata": {},
   "outputs": [],
   "source": [
    "# importing the required libraries\n",
    "import re, numpy as np, pandas as pd, plotly.express as px, plotly.graph_objects as go\n",
    "\n",
    "# reading the data from the `data.csv` saved in the same folder as this jupyter-notebook\n",
    "df = pd.read_csv('data.csv')"
   ]
  },
  {
   "cell_type": "markdown",
   "metadata": {},
   "source": [
    "<span style=\"font-family: monospace; font-size: 12px\">\n",
    "The First Step towards solving any Business Problem through Data is Exploratory Data Analysis (EDA) and the First Step towards EDA is basis analysis of the data (number of records, number of features and their corresponding data types), locating and eliminating Missing Values, and transforming features into something which is explorable and meaningfull.\n",
    "<br>\n",
    "<br>\n",
    "We will now work on getting answers of all the points we just mentioned and these answers will help us give answer to Q2 and Q5 of the Evaluation Criteria.\n",
    "<br>\n",
    "<br>\n",
    "Q2: Observations on the shape of data, data types of all the attributes, conversion of categorical attributes to 'category' (If required), missing value detection, statistical summary. (10 Points)\n",
    "<br>\n",
    "Q5: Missing Value & Outlier check (Treatment optional). (10 Points)\n",
    "</span>"
   ]
  },
  {
   "cell_type": "code",
   "execution_count": null,
   "metadata": {},
   "outputs": [],
   "source": [
    "# printing sample data\n",
    "df.head()"
   ]
  },
  {
   "cell_type": "code",
   "execution_count": null,
   "metadata": {},
   "outputs": [],
   "source": [
    "# printing the shape of the data\n",
    "df.shape"
   ]
  },
  {
   "cell_type": "code",
   "execution_count": null,
   "metadata": {},
   "outputs": [],
   "source": [
    "# checking columns' datatype\n",
    "df.dtypes"
   ]
  },
  {
   "cell_type": "markdown",
   "metadata": {},
   "source": [
    "<span style=\"font-family: monospace; font-size: 40px\">\n",
    "Data Cleaning and Preprocessing\n",
    "</span>"
   ]
  },
  {
   "cell_type": "code",
   "execution_count": null,
   "metadata": {},
   "outputs": [],
   "source": [
    "# dropping `show_id` column because it won't help us in our analysis as it is just an unique identifier\n",
    "df.drop('show_id', axis=1, inplace=True)\n",
    "\n",
    "# converting `release_year` to `object` because we will be using it as a categorical feature\n",
    "df['release_year'] = df['release_year'].astype(object)\n",
    "\n",
    "# converting `date_added` to `datetime` because we will be performing yearly/monthly analysis\n",
    "df['date_added'] = pd.to_datetime(df['date_added'], infer_datetime_format=True).dt.date"
   ]
  },
  {
   "cell_type": "code",
   "execution_count": null,
   "metadata": {},
   "outputs": [],
   "source": [
    "# since now we have all our columns as categorical, `df.describe` would print statistical summary of the data without explicitly mentioning `include=object`\n",
    "df.describe(datetime_is_numeric=False)"
   ]
  },
  {
   "cell_type": "code",
   "execution_count": null,
   "metadata": {},
   "outputs": [],
   "source": [
    "# checking for missing values\n",
    "df.isna().sum()"
   ]
  },
  {
   "cell_type": "code",
   "execution_count": null,
   "metadata": {},
   "outputs": [],
   "source": [
    "# working on `duration` column and checking NaNs values\n",
    "df[df['duration'].isna()]"
   ]
  },
  {
   "cell_type": "code",
   "execution_count": null,
   "metadata": {},
   "outputs": [],
   "source": [
    "# we saw that `duration` is filled in `rating` column. hence correcting the mistake\n",
    "for idx in df[df['duration'].isna()].index:\n",
    "    df.loc[idx, 'duration'] = df.loc[idx, 'rating']\n",
    "    df.loc[idx, 'rating'] = np.nan\n",
    "\n",
    "# again checking for NaNs values and this time it should be an empty dataframe and hence no error should be raised output\n",
    "assert df[df['duration'].isna()].shape[0] == 0"
   ]
  },
  {
   "cell_type": "markdown",
   "metadata": {},
   "source": [
    "<span style=\"font-family: monospace; font-size: 12px\">\n",
    "Transforming <span style=\"color: #ECE93D\"> duration </span> Column\n",
    "</span>"
   ]
  },
  {
   "cell_type": "code",
   "execution_count": null,
   "metadata": {},
   "outputs": [],
   "source": [
    "# we will first check if all the corresponding to `type=Movie` and `type=TV Show` (because these are the only two categories for `type` column as can be verified\n",
    "# from `df['type'].unique()`) ends in `min` and `Season` or `Seasons` respectively\n",
    "\n",
    "# filtering `Movie` and checking some conditions to successfully remove 'min' from `duration`\n",
    "ser = df[df['type'] == 'Movie']['duration']\n",
    "ser = ser[ser.notna()].str.split()\n",
    "assert set(ser.apply(lambda x: len(x)).to_list()) == {2,}\n",
    "assert set(ser.apply(lambda x: x[1]).to_list()) == {'min',}\n",
    "\n",
    "# filtering `TV Show` and checking some conditions to successfully remove 'Season' or 'Seasons' from `duration`\n",
    "ser = df[df['type'] == 'TV Show']['duration']\n",
    "ser = ser[ser.notna()].str.split()\n",
    "assert set(ser.apply(lambda x: len(x)).to_list()) == {2,}\n",
    "assert set(ser.apply(lambda x: x[1]).to_list()) == {'Season', 'Seasons', }\n",
    "\n",
    "# stripping off 'min', 'Season', and 'Seasons' from `duration` column\n",
    "df['duration'] = df['duration'].str.split().apply(lambda x: x[0]).astype(int)\n",
    "\n",
    "df.head()"
   ]
  },
  {
   "cell_type": "markdown",
   "metadata": {},
   "source": [
    "<span style=\"font-family: monospace; font-size: 12px\">\n",
    "Transforming dataframe basis the  <span style=\"color: #ECE93D\"> description </span> Column\n",
    "</span>"
   ]
  },
  {
   "cell_type": "code",
   "execution_count": null,
   "metadata": {},
   "outputs": [],
   "source": [
    "# in `df.describe` we saw that in the column `description` top entry occurred 4 times. let's investigate a bit on more this.\n",
    "print(df[df['description'].duplicated()].shape)\n",
    "df[df['description'].duplicated()].head()"
   ]
  },
  {
   "cell_type": "code",
   "execution_count": null,
   "metadata": {},
   "outputs": [],
   "source": [
    "# on perusing the above dataframe, one can observe that these are rows all corresponds to a particular set of movies released in different languages.\n",
    "# also, for the same movie (based on description) there are NaNs present in different rows. what we need to do is examine these rows one by one and fill NaNs.\n",
    "\n",
    "all_duplicated_description = df[df['description'].duplicated()]['description'].to_list()\n",
    "all_duplicated_description = {desc: all_duplicated_description.count(desc) for desc in all_duplicated_description}\n",
    "\n",
    "replace_desc_dict, custom_replace_desc_dict = dict(), dict()\n",
    "\n",
    "for idx, desc in enumerate(all_duplicated_description.keys()):\n",
    "    temp_df = df[df['description'] == desc]\n",
    "    \n",
    "    # checking if for same `description` we have same `type`, `director`, and `country` or not\n",
    "    # if all these are same or missing, we are treating different title as similar to one another and updating them in `replace_desc_dict`\n",
    "    # otherwise treating them as different and updating them in `custom_replace_desc_dict`\n",
    "    if (temp_df['type'].nunique() < 2) and (temp_df['director'].nunique() < 2) and (temp_df['country'].nunique() < 2):\n",
    "        replace_desc_dict[desc] = all_duplicated_description[desc]\n",
    "    else:\n",
    "        custom_replace_desc_dict[desc] = all_duplicated_description[desc]\n",
    "len(replace_desc_dict), len(custom_replace_desc_dict)"
   ]
  },
  {
   "cell_type": "code",
   "execution_count": null,
   "metadata": {},
   "outputs": [],
   "source": [
    "# forming a common strategy to fill NaNs in rows corresponding to 25 descriptions in `replace_desc_dict` with `mode` of each column where not all values are NaNs.\n",
    "for desc in list(replace_desc_dict.keys()):\n",
    "    temp_df = df[df['description'] == desc]\n",
    "    for column_name in df.columns:\n",
    "        col_filler = df.loc[temp_df.index][column_name]\n",
    "        col_filler_value = col_filler[col_filler.notna()].mode()\n",
    "        if col_filler_value.to_list() != []:\n",
    "            df.loc[temp_df.index, column_name] = col_filler_value[0]"
   ]
  },
  {
   "cell_type": "code",
   "execution_count": null,
   "metadata": {},
   "outputs": [],
   "source": [
    "# analyzing rows corresponding to first `description` in `custom_replace_desc_dict`\n",
    "desc = list(custom_replace_desc_dict.keys())[0]\n",
    "\n",
    "temp_df = df[df['description'] == desc]\n",
    "# we saw that there are a total of 3 rows corresponding to this `description` and 2 are of `type=Movie` and 1 is of `type=TV Show`.\n",
    "# hence filtering only for `type=Movie` and applying the same strategy as that applied above\n",
    "\n",
    "temp_df = temp_df[temp_df['type'] == 'Movie']\n",
    "for column_name in df.columns:\n",
    "    col_filler = df.loc[temp_df.index][column_name]\n",
    "    col_filler_value = col_filler[col_filler.notna()].mode()\n",
    "    if col_filler_value.to_list() != []:\n",
    "        df.loc[temp_df.index, column_name] = col_filler_value[0]"
   ]
  },
  {
   "cell_type": "code",
   "execution_count": null,
   "metadata": {},
   "outputs": [],
   "source": [
    "# analyzing rows corresponding to second `description` in `custom_replace_desc_dict`\n",
    "desc = list(custom_replace_desc_dict.keys())[1]\n",
    "temp_df = df[df['description'] == desc]\n",
    "temp_df\n",
    "\n",
    "# nothing we can do here because there are a total of 2 rows corresponding to this `description` with 1 each belonging to `type=Movie` and `type=TV Show`.\n",
    "# hence leaving as it is."
   ]
  },
  {
   "cell_type": "code",
   "execution_count": null,
   "metadata": {},
   "outputs": [],
   "source": [
    "# checking shape of dataframe before and after dropping duplicates\n",
    "print(df.shape, ' - Shape of DataFrame with duplicates.')\n",
    "df.drop_duplicates(inplace=True)\n",
    "print(df.shape, ' - Shape of DataFrame without duplicates.')"
   ]
  },
  {
   "cell_type": "code",
   "execution_count": null,
   "metadata": {},
   "outputs": [],
   "source": [
    "# checking `df.describe()` for further steps\n",
    "df.describe(include=object)"
   ]
  },
  {
   "cell_type": "markdown",
   "metadata": {},
   "source": [
    "<span style=\"font-family: monospace; font-size: 12px\">\n",
    "Filling <span style=\"color: #ECE93D\">NaNs</span> in <span style=\"color: #ECE93D\">director</span>, <span style=\"color: #ECE93D\">cast</span>, <span style=\"color: #ECE93D\">country</span> and <span style=\"color: #ECE93D\">rating</span> Columns\n",
    "</span>"
   ]
  },
  {
   "cell_type": "code",
   "execution_count": null,
   "metadata": {},
   "outputs": [],
   "source": [
    "# let's fill NaNs in `director` and `cast` as 'Anonymous' and in `country` as `Not Available`\n",
    "df['director'].fillna('Anonymous', inplace=True)\n",
    "df['cast'].fillna('Anonymous', inplace=True)\n",
    "df['country'].fillna('Not Available', inplace=True)\n",
    "df['rating'].fillna('Not Available', inplace=True)\n",
    "# now only 2 more columns contain NaNs and these are `date_added` and `rating`"
   ]
  },
  {
   "cell_type": "markdown",
   "metadata": {},
   "source": [
    "<span style=\"font-family: monospace; font-size: 12px\">\n",
    "Filling <span style=\"color: #ECE93D\"> NaTs </span> in the <span style=\"color: #ECE93D\"> date_added </span> Column\n",
    "</span>"
   ]
  },
  {
   "cell_type": "code",
   "execution_count": null,
   "metadata": {},
   "outputs": [],
   "source": [
    "df[df['date_added'].isna()]"
   ]
  },
  {
   "cell_type": "code",
   "execution_count": null,
   "metadata": {},
   "outputs": [],
   "source": [
    "# what we have in above dataframe is that for all the records missing `date_added` entry, we have information of `release_year`.\n",
    "# what we can do here is that fill NaNs with release_year-12-31, i.e., 31st December of the release year\n",
    "\n",
    "indices_to_modify = df[df['date_added'].isna()].index\n",
    "\n",
    "df.loc[indices_to_modify, 'date_added'] = df.loc[indices_to_modify]['release_year'].apply(lambda x: str(x)+'-12-31')"
   ]
  },
  {
   "cell_type": "markdown",
   "metadata": {},
   "source": [
    "<span style=\"font-family: monospace; font-size: 12px\">\n",
    "Transforming <span style=\"color: #ECE93D\">director</span>, <span style=\"color: #ECE93D\">cast</span>, <span style=\"color: #ECE93D\">listed_in </span>, and <span style=\"color: #ECE93D\">country</span> Columns\n",
    "</span>"
   ]
  },
  {
   "cell_type": "code",
   "execution_count": null,
   "metadata": {},
   "outputs": [],
   "source": [
    "for column_name in ['director', 'cast', 'listed_in', 'country']:\n",
    "    df[column_name] = df[column_name].apply(lambda x: x.split(','))\n",
    "\n",
    "df = df.explode('director').explode('cast').explode('listed_in').explode('country')\n",
    "\n",
    "for col in df.select_dtypes(object):\n",
    "    df[col] = df[col].astype(str).str.strip()\n",
    "\n",
    "df.drop_duplicates(inplace=True)\n",
    "df.reset_index(drop=True, inplace=True)\n",
    "df.shape"
   ]
  },
  {
   "cell_type": "code",
   "execution_count": null,
   "metadata": {},
   "outputs": [],
   "source": [
    "df.head()"
   ]
  },
  {
   "cell_type": "code",
   "execution_count": null,
   "metadata": {},
   "outputs": [],
   "source": [
    "df.describe(include=object)"
   ]
  },
  {
   "cell_type": "markdown",
   "metadata": {},
   "source": [
    "<span style=\"font-family: monospace; font-size: 12px\">\n",
    "Okay, so now we are ready for some EDA because we have cleansed the data as much as it was possible. The next step would be observing interesting patterns within our data and perform Univariate, Bivariate, and/or Multivariate analysis.\n",
    "<br>\n",
    "<br>\n",
    "Let's start exploring how are the categories distributed within our <span style=\"font-family: monospace; color: #ECE93D; font-size: 12px\">object</span> type columns. All the columns makes sense to explore category-balance using <span style=\"font-family: monospace; color: #ECE93D; font-size: 12px\">value_counts()</span> method except <span style=\"font-family: monospace; color: #ECE93D; font-size: 12px\">description</span> column because it would be similar to the <span style=\"font-family: monospace; color: #ECE93D; font-size: 12px\">title</span> column.\n",
    "</span>"
   ]
  },
  {
   "cell_type": "markdown",
   "metadata": {},
   "source": [
    "<span style=\"font-family: monospace; font-size: 40px\">\n",
    "Data Analysis\n",
    "</span>"
   ]
  },
  {
   "cell_type": "code",
   "execution_count": null,
   "metadata": {},
   "outputs": [],
   "source": [
    "df['type'].value_counts()"
   ]
  },
  {
   "cell_type": "markdown",
   "metadata": {},
   "source": [
    "<span style=\"font-family: monospace; font-size: 12px\">Inference A: There are almost 2.5 times Movie titles in our dataset than TV shows. Audience tend to like movies over tv shows.</span>"
   ]
  },
  {
   "cell_type": "code",
   "execution_count": null,
   "metadata": {},
   "outputs": [],
   "source": [
    "df['title'].value_counts()"
   ]
  },
  {
   "cell_type": "markdown",
   "metadata": {},
   "source": [
    "<span style=\"font-family: monospace; font-size: 12px\">\n",
    "Inference B: On exploding our data, a row in the original dataframe expanded to as high as 700 rows for title Kahlil Gibran's The Prophet while few rows didn't experienced any change.\n",
    "</span>"
   ]
  },
  {
   "cell_type": "code",
   "execution_count": null,
   "metadata": {},
   "outputs": [],
   "source": [
    "df['director'].value_counts()"
   ]
  },
  {
   "cell_type": "markdown",
   "metadata": {},
   "source": [
    "<span style=\"font-family: monospace; font-size: 12px\">\n",
    "Inference C: Martin Scorsese occurs the most - 419 - number of times in our dataset; closely followed by Youssef Chahine - 409 times. These directors have worked in movies or tc shows that star many cast members and belong to many genres.\n",
    "</span>"
   ]
  },
  {
   "cell_type": "code",
   "execution_count": null,
   "metadata": {},
   "outputs": [],
   "source": [
    "df['cast'].value_counts()"
   ]
  },
  {
   "cell_type": "markdown",
   "metadata": {},
   "source": [
    "<span style=\"font-family: monospace; font-size: 12px\">\n",
    "Inference D: Liam Neeson occurs the most - 161 - number of times in our dataset; closely followed by Alfred Molina - 160 times. These actors have worked in movies or tv shows that are directed by many directors and have many cast members and belong to many genres.\n",
    "</span>"
   ]
  },
  {
   "cell_type": "code",
   "execution_count": null,
   "metadata": {},
   "outputs": [],
   "source": [
    "df['country'].value_counts()"
   ]
  },
  {
   "cell_type": "markdown",
   "metadata": {},
   "source": [
    "<span style=\"font-family: monospace; font-size: 12px\">\n",
    "Inference E: Highest number of entries - 59214 - in our dataset corresponds to the US followed by India at 22733. These countries have multi-director, multi-starrer, multi-genre content.\n",
    "</span>"
   ]
  },
  {
   "cell_type": "code",
   "execution_count": null,
   "metadata": {},
   "outputs": [],
   "source": [
    "df['date_added'].value_counts().head(50)"
   ]
  },
  {
   "cell_type": "markdown",
   "metadata": {},
   "source": [
    "<span style=\"font-family: monospace; font-size: 12px\">\n",
    "Inference F: Most of the movies are added on the platform within first week of a month.\n",
    "</span>"
   ]
  },
  {
   "cell_type": "code",
   "execution_count": null,
   "metadata": {},
   "outputs": [],
   "source": [
    "df['release_year'].value_counts()"
   ]
  },
  {
   "cell_type": "markdown",
   "metadata": {},
   "source": [
    "<span style=\"font-family: monospace; font-size: 12px\">\n",
    "Inference G: Audience prefer newer content.\n",
    "</span>"
   ]
  },
  {
   "cell_type": "code",
   "execution_count": null,
   "metadata": {},
   "outputs": [],
   "source": [
    "df['rating'].value_counts()"
   ]
  },
  {
   "cell_type": "markdown",
   "metadata": {},
   "source": [
    "<span style=\"font-family: monospace; font-size: 12px\">\n",
    "Inference H: Highest number of entries - 73695 - in our dataset corresponds to the TV-MA followed by TV-14 at 43597. These are two most preferred rating types among audience.\n",
    "</span>"
   ]
  },
  {
   "cell_type": "code",
   "execution_count": null,
   "metadata": {},
   "outputs": [],
   "source": [
    "df['listed_in'].value_counts()"
   ]
  },
  {
   "cell_type": "markdown",
   "metadata": {},
   "source": [
    "<span style=\"font-family: monospace; font-size: 12px\">\n",
    "Inference I: Highest number of entries - 29713 - in our dataset corresponds to the Dramas followed by Comedy at 20758.\n",
    "</span>"
   ]
  },
  {
   "cell_type": "markdown",
   "metadata": {},
   "source": [
    "<span style=\"font-family: monospace; font-size: 40px\">\n",
    "Data Vizualization\n",
    "</span>"
   ]
  },
  {
   "cell_type": "markdown",
   "metadata": {},
   "source": [
    "<span style=\"font-family: monospace; font-size: 12px\">\n",
    "Let's start building some intuitive plots to get to know the data better.\n",
    "</span>"
   ]
  },
  {
   "cell_type": "code",
   "execution_count": null,
   "metadata": {},
   "outputs": [],
   "source": [
    "df.head()"
   ]
  },
  {
   "cell_type": "code",
   "execution_count": null,
   "metadata": {},
   "outputs": [],
   "source": [
    "# defining some functions for plotting graphs with minimal code repetition\n",
    "def update_fig_layout_wo_legend(fig, title, x_title, y_title):\n",
    "    fig.update_layout(\n",
    "        xaxis={'visible': True, 'showticklabels': True},\n",
    "        font_family='monospace',\n",
    "        font_color='black',\n",
    "        title_x=0.50,\n",
    "        title_y=0.95,\n",
    "        title_text=title,\n",
    "        xaxis_title=x_title,\n",
    "        yaxis_title=y_title,\n",
    "        plot_bgcolor='rgba(255,255,255,255)',\n",
    "        paper_bgcolor='rgba(255,255,255,255)',\n",
    "        showlegend=False,\n",
    "        # hovermode=False\n",
    "        )\n",
    "    fig.show()\n",
    "    return None\n",
    "\n",
    "def update_fig_layout_w_legends(fig, title, x_title, y_title):\n",
    "    fig.update_layout(\n",
    "        xaxis={'visible': True, 'showticklabels': True},\n",
    "        font_family='monospace',\n",
    "        font_color='black',\n",
    "        title_x=0.50,\n",
    "        title_y=0.95,\n",
    "        title_text=title,\n",
    "        xaxis_title=x_title,\n",
    "        yaxis_title=y_title,\n",
    "        plot_bgcolor='rgba(255,255,255,255)',\n",
    "        paper_bgcolor='rgba(255,255,255,255)',\n",
    "        showlegend=True,\n",
    "        # hovermode=False\n",
    "        )\n",
    "    fig.show()\n",
    "    return None\n",
    "\n",
    "def plot_bar(x, y, title, x_title, y_title):\n",
    "    fig = px.bar(x=x, y=y, width=1250)\n",
    "    update_fig_layout_wo_legend(fig, title, x_title, y_title)\n",
    "    return None\n",
    "\n",
    "def plot_line(x, y, title, x_title, y_title):\n",
    "    fig = px.line(x=x, y=y, width=1250)\n",
    "    update_fig_layout_wo_legend(fig, title, x_title, y_title)\n",
    "    return None\n",
    "\n",
    "def plot_histogram(x, title, x_title, y_title):\n",
    "    fig = px.histogram(x=x)\n",
    "    update_fig_layout_wo_legend(fig, title, x_title, y_title)\n",
    "    return None\n",
    "\n",
    "def plot_box(x, y, title, x_title, y_title):\n",
    "    fig = px.box(x=x, y=y)\n",
    "    update_fig_layout_wo_legend(fig, title, x_title, y_title)\n",
    "    return None\n",
    "\n",
    "def plot_box_one_variable(x, title, y_title):\n",
    "    fig = px.box(x)\n",
    "    update_fig_layout_wo_legend(fig, title, '', y_title)\n",
    "    return None\n",
    "\n",
    "def plot_dodge_bar(data, x, y, color, title, x_title, y_title):\n",
    "    fig = px.bar(data_frame=data,x=x, y=y, color=color, barmode='group')\n",
    "    update_fig_layout_w_legends(fig, title, x_title, y_title)\n",
    "    return None\n",
    "\n",
    "def plot_bar_with_running_total(x, y, title, x_title, y_title):\n",
    "    fig = go.Figure()\n",
    "    fig.add_trace(go.Scatter(x=x, y=y.cumsum()))\n",
    "    fig.add_trace(go.Bar(x=x, y=y))\n",
    "    update_fig_layout_wo_legend(fig, title, x_title, y_title)\n",
    "    return None\n",
    "\n",
    "def plot_heatmap(data, fig_num):\n",
    "    fig = px.imshow(data.corr(), labels=dict(color='Correlation'),\n",
    "    x=['Movie Released Year', 'Movie Added Year', 'Duration'], y=['Movie Released Year', 'Movie Added Year', 'Duration'])\n",
    "    update_fig_layout_w_legends(fig, f'{fig_num} Correlation Matrix', '', '')\n",
    "    return None\n",
    "\n",
    "def plot_heatmap_1(data, fig_num):\n",
    "    fig = px.imshow(data.corr(), labels=dict(color='Correlation'),\n",
    "    x=['Movie Released Year', 'Number of Directors', 'Number of Actors', 'Number of Titles'], y=['Movie Released Year', 'Number of Directors', 'Number of Actors', 'Number of Titles'])\n",
    "    update_fig_layout_w_legends(fig, f'{fig_num} Correlation Matrix', '', '')\n",
    "    return None"
   ]
  },
  {
   "cell_type": "markdown",
   "metadata": {},
   "source": [
    "<span style=\"font-family: monospace; font-size: 12px\">\n",
    "We have a total of 10817 unique (title, country) pairs for 124 countries. Let's plot a barplot for top 20 contributing countries. We would have to remove \"Not Available\" entry from the dataset to truly capture top 20's list because \"Not Available\" sits at position 3. Can be verified using <span style=\"font-family: monospace; color: #ECE93D; font-size: 12px\">.index</span> attribute\n",
    "</span>\n",
    "<br><br>\n",
    "<span style=\"font-family: monospace; font-size: 12px\">\n",
    "We will also perform similar analysis for <span style=\"font-family: monospace; color: #ECE93D; font-size: 12px\">director</span>, <span style=\"font-family: monospace; color: #ECE93D; font-size: 12px\">cast</span>, <span style=\"font-family: monospace; color: #ECE93D; font-size: 12px\">rating</span>, and <span style=\"font-family: monospace; color: #ECE93D; font-size: 12px\">listed_in</span> columns and try to figure out who are busiest directors and actors and what rating and genres are popular among the audience\n",
    "</span>"
   ]
  },
  {
   "cell_type": "code",
   "execution_count": null,
   "metadata": {
    "scrolled": false
   },
   "outputs": [],
   "source": [
    "itr_list = [\n",
    "    ('country', 'Not Available', 'Number of Movies + TV Shows by Country', 'Country Name', '# Movies + TV Shows', 20),\n",
    "    ('director', 'Anonymous', 'Number of Movies + TV Shows by Director', 'Director Name', '# Movies + TV Shows', 20),\n",
    "    ('cast', 'Anonymous', 'Number of Movies + TV Shows by Actor', 'Actor Name', '# Movies + TV Shows', 20),\n",
    "    ('rating', 'Not Available', 'Number of Movies + TV Shows by Rating', 'Rating', '# Movies + TV Shows', 20),\n",
    "    ('listed_in', None, 'Number of Movies + TV Shows by Genre', 'Genre', '# Movies + TV Shows', 20)\n",
    "]\n",
    "\n",
    "for idx, (col, search_phrase, title, x_title, y_title, top_n) in enumerate(itr_list):\n",
    "    temp = df[['title', col]].drop_duplicates()[col].value_counts()\n",
    "    x, y = np.array(temp.index), np.array(temp.values)\n",
    "\n",
    "    if search_phrase:\n",
    "        delete_at = np.where(x==search_phrase)[0][0]\n",
    "        x, y = np.delete(x, delete_at), np.delete(y, delete_at)\n",
    "\n",
    "    x, y = x[:top_n], y[:top_n]\n",
    "\n",
    "    plot_bar_with_running_total(x, y, f'Figure {idx + 1}: ' + title, x_title, y_title)"
   ]
  },
  {
   "cell_type": "markdown",
   "metadata": {},
   "source": [
    "<span style=\"font-family: monospace; font-size: 12px\">\n",
    "Inferences From Figure 1:\n",
    "<br>\n",
    "<br>\n",
    "Inference 1: United States, India, United Kingdom, Canada, and France are the top 5 content contibuting countries.\n",
    "<br>\n",
    "<br>\n",
    "Inference 2: More than 85% of the content comes from only 20 out of 124 countries.\n",
    "<br>\n",
    "<br>\n",
    "Inference 3: Only 17 countries contribute 100 or more Movies / TV Shows.\n",
    "<br>\n",
    "<br>\n",
    "<br>\n",
    "<br>\n",
    "Inferences From Figure 2:\n",
    "<br>\n",
    "<br>\n",
    "Inference 4: Rajiv Chilaka has directed most number of content for Netflix and is closely followed by Jan Suter.\n",
    "<br>\n",
    "<br>\n",
    "Inference 5: In contrast to Figure 1, we see that our data is not skewed on Directors. We see that top 20 directors out of a total of 4994 has directed only 2.5% of all the content present in our dataset.\n",
    "<br>\n",
    "<br>\n",
    "<br>\n",
    "<br>\n",
    "Inferences From Figure 3:\n",
    "<br>\n",
    "<br>\n",
    "Inference 6: Anupam Kher has acted in the most number of content for Netflix and is closely followed by Shah Rukh Khan.\n",
    "<br>\n",
    "<br>\n",
    "Inference 7: Inline with Figure 2, we see that our data is also not skewed on Cast. We see that top 20 actors out of more than 36000 has acted only 0.8% of all the content present in our dataset.\n",
    "<br>\n",
    "<br>\n",
    "<br>\n",
    "<br>\n",
    "Inferences From Figure 4:\n",
    "<br>\n",
    "<br>\n",
    "Inference 8: TV-MA is the most preferred rating among the audience followed by TV-14.\n",
    "<br>\n",
    "<br>\n",
    "Inference 9: Out of content available of 15 rating types, top 3 capture almost 71% of the content.\n",
    "<br>\n",
    "<br>\n",
    "<br>\n",
    "<br>\n",
    "Inferences From Figure 5:\n",
    "<br>\n",
    "<br>\n",
    "Inference 10: International Movies and International TV Shows are preferred all across the globe.\n",
    "<br>\n",
    "<br>\n",
    "Inference 11: Drama, Comedy, and Documentary are the top 3 preferred Genres by the audience, in the order as is.\n",
    "</span>"
   ]
  },
  {
   "cell_type": "markdown",
   "metadata": {},
   "source": [
    "<span style=\"font-family: monospace; font-size: 12px\">\n",
    "Next, let's get some insights on <span style=\"font-family: monospace; color: #ECE93D; font-size: 12px\">duration</span> column"
   ]
  },
  {
   "cell_type": "code",
   "execution_count": null,
   "metadata": {},
   "outputs": [],
   "source": [
    "temp_df = df.drop_duplicates(subset=['title', 'duration'])[['type', 'duration']]\n",
    "movie_dist = temp_df[temp_df['type'] == 'Movie']['duration']\n",
    "show_dist = temp_df[temp_df['type'] == 'TV Show']['duration']"
   ]
  },
  {
   "cell_type": "code",
   "execution_count": null,
   "metadata": {},
   "outputs": [],
   "source": [
    "plot_histogram(show_dist, 'Figure 6: Distribution of Number of Seasons', '# Seasons', '# TV Shows')"
   ]
  },
  {
   "cell_type": "markdown",
   "metadata": {},
   "source": [
    "<span style=\"font-family: monospace; font-size: 12px\">\n",
    "Inferences From Figure 6:\n",
    "<br>\n",
    "<br>\n",
    "Inference 12: 2413 TV Shows out of 2672 have at a maximum of 3 Seasons. With this we could assume that audience like TV Shows with lesser seasons.\n",
    "</span>"
   ]
  },
  {
   "cell_type": "code",
   "execution_count": null,
   "metadata": {},
   "outputs": [],
   "source": [
    "plot_histogram(movie_dist, 'Figure 7: Distribution of Duration (mins)', 'Duration (mins)', '# Movies')"
   ]
  },
  {
   "cell_type": "markdown",
   "metadata": {},
   "source": [
    "<span style=\"font-family: monospace; font-size: 12px\">\n",
    "Inferences From Figure 7:\n",
    "<br>\n",
    "<br>\n",
    "Inference 13: We see a near perfect Normal Distribution (if we ignore observations on higher-end band of duration). The peak of the distribution is around 96 minutes with most of the movies having duration between 86 to 106 minutes.\n",
    "</span>"
   ]
  },
  {
   "cell_type": "code",
   "execution_count": null,
   "metadata": {},
   "outputs": [],
   "source": [
    "temp_df = df.drop_duplicates(subset=['title', 'duration'])[['type', 'duration', 'listed_in']]\n",
    "movie_dist = temp_df[temp_df['type'] == 'Movie'][['listed_in', 'duration']]\n",
    "show_dist = temp_df[temp_df['type'] == 'TV Show'][['listed_in', 'duration']]"
   ]
  },
  {
   "cell_type": "code",
   "execution_count": null,
   "metadata": {},
   "outputs": [],
   "source": [
    "plot_box(show_dist['listed_in'], show_dist['duration'], 'Figure 8: Genre vs Seasons (TV Shows)', 'Genre', '# Seasons')"
   ]
  },
  {
   "cell_type": "markdown",
   "metadata": {},
   "source": [
    "<span style=\"font-family: monospace; font-size: 12px\">\n",
    "Inferences From Figure 8:\n",
    "<br>\n",
    "<br>\n",
    "Inference 14: TV Shows belonging to Classic & Cult tend to be longer with half of them having atleast 4 seasons.\n",
    "<br>\n",
    "<br>\n",
    "Inference 15: Drama, Comedy, Action & Adventure are the next three genres who tend to have longer TV Shows with half of shows of each of these categories having atleast 2 seasons.\n",
    "</span>"
   ]
  },
  {
   "cell_type": "code",
   "execution_count": null,
   "metadata": {},
   "outputs": [],
   "source": [
    "plot_box(movie_dist['listed_in'], movie_dist['duration'], 'Figure 9: Genre vs Duration (Movies)', 'Genre', 'Duration (mins)')"
   ]
  },
  {
   "cell_type": "markdown",
   "metadata": {},
   "source": [
    "<span style=\"font-family: monospace; font-size: 12px\">\n",
    "Inferences From Figure 9:\n",
    "<br>\n",
    "<br>\n",
    "Inference 16: Movies belonging to Romantic, LGBTQ, and Sports tend to have a very consolidated range of their duration.\n",
    "<br>\n",
    "<br>\n",
    "Inference 17: Drama, Comedy, Action & Adventure, and Classical are the four genres who tend to have varied length of movies with duration as low as 5 minutes to as high as 250 minutes.\n",
    "</span>"
   ]
  },
  {
   "cell_type": "markdown",
   "metadata": {},
   "source": [
    "<span style=\"font-family: monospace; font-size: 12px\">\n",
    "Next, Let's examine the number of Movies and TV Shows added vs released each year.\n",
    "</span>"
   ]
  },
  {
   "cell_type": "code",
   "execution_count": null,
   "metadata": {},
   "outputs": [],
   "source": [
    "temp_df = df.drop_duplicates(subset=['title', 'date_added', 'release_year'])[['date_added', 'release_year']]\n",
    "added_year = temp_df['date_added'].apply(lambda x: x[:4]).value_counts().reset_index()\n",
    "release_year = temp_df['release_year'].value_counts().reset_index()\n",
    "temp_df = pd.merge(left=added_year, right=release_year, left_on='index', right_on='index', how='outer').sort_values(by='index', ascending=False).reset_index(drop=True)\n",
    "temp_df = temp_df.fillna(0).rename({'index': 'Year', 'date_added': 'Added', 'release_year': 'Released'}, axis=1).astype(int)\n",
    "temp_df = temp_df.melt(id_vars=['Year'], value_vars=['Added', 'Released'], var_name='Content', value_name='Count')\n",
    "plot_dodge_bar(temp_df, 'Year', 'Count', 'Content', 'Figure 10: Year vs Content Released and Added', 'Year', '# Content')"
   ]
  },
  {
   "cell_type": "markdown",
   "metadata": {},
   "source": [
    "<span style=\"font-family: monospace; font-size: 12px\">\n",
    "Inferences From Figure 10:\n",
    "<br>\n",
    "<br>\n",
    "Inference 18: With platform coming into existence in 2003, added its first 2 movies the very same year. Over the span of 13 years, 2003-2015, there was a constant-to-linear growth in number of content added to the platform while the growth of content released was exponential.\n",
    "<br>\n",
    "<br>\n",
    "Inference 19: Over the next 6 years, growth of both content added and released was exponential with more content being added to the platform than released. This can be accounted for the fact that Netflix started adding Movies and TV Shows that were released in the past.\n",
    "<br>\n",
    "<br>\n",
    "Inference 20: We saw a dip in both the number of content added and released in the recent years post 2018. While Covid can be held accountable for this decrease in the years of 2020 and 2021; we do not know why less contents were released in 2019 as compared to 2018.\n",
    "</span>"
   ]
  },
  {
   "cell_type": "markdown",
   "metadata": {},
   "source": [
    "<span style=\"font-family: monospace; font-size: 12px\">\n",
    "Let's examine the above graph separately for Movies and TV Shows.\n",
    "</span>"
   ]
  },
  {
   "cell_type": "code",
   "execution_count": null,
   "metadata": {},
   "outputs": [],
   "source": [
    "# for movies\n",
    "\n",
    "temp_df = df.drop_duplicates(subset=['title', 'type', 'date_added', 'release_year'])[['type', 'date_added', 'release_year']]\n",
    "temp_df = temp_df[temp_df['type'] == 'Movie']\n",
    "added_year = temp_df['date_added'].apply(lambda x: x[:4]).value_counts().reset_index()\n",
    "release_year = temp_df['release_year'].value_counts().reset_index()\n",
    "temp_df = pd.merge(left=added_year, right=release_year, left_on='index', right_on='index', how='outer').sort_values(by='index', ascending=False).reset_index(drop=True)\n",
    "temp_df = temp_df.fillna(0).rename({'index': 'Year', 'date_added': 'Added', 'release_year': 'Released'}, axis=1).astype(int)\n",
    "temp_df = temp_df.melt(id_vars=['Year'], value_vars=['Added', 'Released'], var_name='Movies', value_name='Count')\n",
    "plot_dodge_bar(temp_df, 'Year', 'Count', 'Movies', 'Figure 11: Year vs Movies Released and Added', 'Year', '# Movies')\n",
    "\n",
    "# for tv shows\n",
    "\n",
    "temp_df = df.drop_duplicates(subset=['title', 'type', 'date_added', 'release_year'])[['type', 'date_added', 'release_year']]\n",
    "temp_df = temp_df[temp_df['type'] == 'TV Show']\n",
    "added_year = temp_df['date_added'].apply(lambda x: x[:4]).value_counts().reset_index()\n",
    "release_year = temp_df['release_year'].value_counts().reset_index()\n",
    "temp_df = pd.merge(left=added_year, right=release_year, left_on='index', right_on='index', how='outer').sort_values(by='index', ascending=False).reset_index(drop=True)\n",
    "temp_df = temp_df.fillna(0).rename({'index': 'Year', 'date_added': 'Added', 'release_year': 'Released'}, axis=1).astype(int)\n",
    "temp_df = temp_df.melt(id_vars=['Year'], value_vars=['Added', 'Released'], var_name='TV Show', value_name='Count')\n",
    "plot_dodge_bar(temp_df, 'Year', 'Count', 'TV Show', 'Figure 12: Year vs TV Show Released and Added', 'Year', '# TV Show')"
   ]
  },
  {
   "cell_type": "markdown",
   "metadata": {},
   "source": [
    "<span style=\"font-family: monospace; font-size: 12px\">\n",
    "Inferences From Figure 11:\n",
    "<br>\n",
    "<br>\n",
    "Inference 21: Trend is similar to what we saw in Figure 10. Similar inferences can be drawn for Movies from this figure as for Movies + TV Shows from the previous figure.\n",
    "<br>\n",
    "<br>\n",
    "<br>\n",
    "<br>\n",
    "Inferences From Figure 12:\n",
    "<br>\n",
    "<br>\n",
    "Inference 22: Trend in this figure deviate from what we saw in Figure 10 and Figure 11. Here we see a continuous rise in TV Shows released until 2020 in contrast to 2018 in the previous two figures. We can assume that this could happen either because TV Shows are longer than movies and would take more time in editting and post-shoot stuff or because TV Shows grew more popular in recent years and audience preferred them over movies.\n",
    "</span>"
   ]
  },
  {
   "cell_type": "markdown",
   "metadata": {},
   "source": [
    "<span style=\"font-family: monospace; font-size: 12px\">\n",
    "Next, let's plot a heatmap of correlation between content release year, content added year and, duration.\n",
    "</span>"
   ]
  },
  {
   "cell_type": "code",
   "execution_count": null,
   "metadata": {},
   "outputs": [],
   "source": [
    "temp_df = df.drop_duplicates(subset=['title', 'type', 'date_added', 'release_year', 'duration'])\n",
    "temp_df = temp_df[temp_df['type'] == 'Movie'][['release_year', 'date_added', 'duration']]\n",
    "temp_df['date_added'] = pd.to_datetime(temp_df['date_added']).dt.year\n",
    "temp_df = temp_df.astype(int)\n",
    "plot_heatmap(temp_df, 'Figure 13: Movies -')\n",
    "\n",
    "temp_df = df.drop_duplicates(subset=['title', 'type', 'date_added', 'release_year', 'duration'])\n",
    "temp_df = temp_df[temp_df['type'] == 'TV Show'][['release_year', 'date_added', 'duration']]\n",
    "temp_df['date_added'] = pd.to_datetime(temp_df['date_added']).dt.year\n",
    "temp_df = temp_df.astype(int)\n",
    "plot_heatmap(temp_df, 'Figure 14: TV Shows -')"
   ]
  },
  {
   "cell_type": "markdown",
   "metadata": {},
   "source": [
    "<span style=\"font-family: monospace; font-size: 12px\">\n",
    "Inferences From Figure 13:\n",
    "<br>\n",
    "<br>\n",
    "Inference 23: Duration of movies decreased over time.\n",
    "<br>\n",
    "<br>\n",
    "<br>\n",
    "<br>\n",
    "Inferences From Figure 14:\n",
    "<br>\n",
    "<br>\n",
    "Inference 24: TV Shows with more seasons were added over time.\n",
    "<br>\n",
    "<br>\n",
    "Inference 25: More TV Shows were released and added over time as can be verified from Figure 12.\n",
    "</span>"
   ]
  },
  {
   "cell_type": "code",
   "execution_count": null,
   "metadata": {},
   "outputs": [],
   "source": [
    "temp_df = df.drop_duplicates(subset=['title', 'director', 'cast', 'release_year']).groupby(by='release_year', as_index=False).agg({'director': pd.Series.nunique, 'cast': pd.Series.nunique, 'title': pd.Series.nunique}).astype(int)\n",
    "plot_heatmap_1(temp_df, 'Figure 15: ')"
   ]
  },
  {
   "cell_type": "markdown",
   "metadata": {},
   "source": [
    "<span style=\"font-family: monospace; font-size: 12px\">\n",
    "Inferences From Figure 15:\n",
    "<br>\n",
    "<br>\n",
    "Inference 26: Good correlation observed observed between year and number of movies and/or tv shows released.\n",
    "<br>\n",
    "<br>\n",
    "Inference 27: More and more directors and actors debutted over time in more and more movies and tv shows.\n",
    "</span>"
   ]
  },
  {
   "cell_type": "markdown",
   "metadata": {},
   "source": [
    "<span style=\"font-family: monospace; font-size: 40px\">\n",
    "Outlier Analysis\n",
    "</span>"
   ]
  },
  {
   "cell_type": "code",
   "execution_count": null,
   "metadata": {},
   "outputs": [],
   "source": [
    "m_temp = df[df['type'] == 'Movie'].drop_duplicates(subset=['title', 'duration'])[['duration']]\n",
    "s_temp = df[df['type'] == 'TV Show'].drop_duplicates(subset=['title', 'duration'])[['duration']]\n",
    "\n",
    "plot_box_one_variable(m_temp, 'Figure 16: Outlier Detection in duration (mins) of Movies','minutes')\n",
    "plot_box_one_variable(s_temp, 'Figure 17: Outlier Detection in # Seasons of TV Shows','# Seasons')"
   ]
  },
  {
   "cell_type": "markdown",
   "metadata": {},
   "source": [
    "<span style=\"font-family: monospace; font-size: 12px\">\n",
    "Inferences From Figure 16:\n",
    "<br>\n",
    "<br>\n",
    "Inference 28: The outlier range for movies is above 154 and below 47; and there are clearly many outliers present in the dataset having duration in these outlier range.\n",
    "<br>\n",
    "<br>\n",
    "<br>\n",
    "<br>\n",
    "Inferences From Figure 17:\n",
    "<br>\n",
    "<br>\n",
    "Inference 29: The outlier range for tv shows is above 3; and there are clearly many tv shows present in the dataset having duration in this outlier range.\n",
    "<br>\n",
    "<br>\n",
    "</span>"
   ]
  },
  {
   "cell_type": "markdown",
   "metadata": {},
   "source": [
    "<span style=\"font-family: monospace; font-size: 12px\">\n",
    "Let's look at if any titles were added to the platform before their release date or not? ideally this should not happen but let's just check.\n",
    "</span>"
   ]
  },
  {
   "cell_type": "code",
   "execution_count": null,
   "metadata": {},
   "outputs": [],
   "source": [
    "temp_df = df.drop_duplicates(subset=['title'])[['title', 'release_year', 'date_added']]\n",
    "temp_df['date_added'] = pd.to_datetime(temp_df['date_added']).dt.year.astype(int)\n",
    "temp_df['release_year'] = temp_df['release_year'].astype(int)\n",
    "print(temp_df[temp_df['release_year'] > temp_df['date_added']].sort_values(by=['release_year', 'date_added', 'title']).reset_index(drop=True))"
   ]
  },
  {
   "cell_type": "markdown",
   "metadata": {},
   "source": [
    "<span style=\"font-family: monospace; font-size: 12px\">\n",
    "Inference 30: In contrast to what we believed, we saw that 14 titles were infact added on the platform before there release date. This could be a result of wrong data entry or if the trailers were made available on Netflix in name of the movie.\n",
    "</span>"
   ]
  },
  {
   "cell_type": "markdown",
   "metadata": {},
   "source": [
    "<span style=\"font-family: monospace; font-size: 40px\">\n",
    "Conclusion\n",
    "</span>"
   ]
  },
  {
   "cell_type": "markdown",
   "metadata": {},
   "source": [
    "<hr>\n",
    "<br>\n",
    "<span style=\"font-family: monospace; font-size: 15px\">\n",
    "1. Defining Problem Statement and Analysing basic metrics. (10 Points)\n",
    "</span>\n",
    "<br>\n",
    "<br>\n",
    "<span style=\"font-family: monospace; font-size: 12px; padding-left: 3em\">\n",
    "Analyze the data and generate insights that could help Netflix in deciding which type of TV Show/Movie to produce and how to grow the business in different countries.\n",
    "</span>\n",
    "<br>\n",
    "<br>\n",
    "<span style=\"font-family: monospace; font-size: 12px; padding-left: 5em\">\n",
    "Method 1: Exploratory Data Analysis - Knowing the data; filling in missing data; transforming the data; \n",
    "</span>\n",
    "<br>\n",
    "<br>\n",
    "<span style=\"font-family: monospace; font-size: 12px; padding-left: 5em\">\n",
    "Method 2: Uni-Variate Analysis - Histograms; Count Plots\n",
    "</span>\n",
    "<br>\n",
    "<br>\n",
    "<span style=\"font-family: monospace; font-size: 12px; padding-left: 5em\">\n",
    "Method 3: Multi-Variate Analysis - Bar Plots; Line Plots; Box Plots; Pair Plots\n",
    "</span>\n",
    "<br>\n",
    "<br>\n",
    "<span style=\"font-family: monospace; font-size: 12px; padding-left: 5em\">\n",
    "Method 4: Correlation - Heatmaps; Correlation Matrix\n",
    "</span>\n",
    "<br>\n",
    "<br>\n",
    "<hr>\n",
    "<br>\n",
    "<span style=\"font-family: monospace; font-size: 15px\">\n",
    "2: Observations on the shape of data, data types of all the attributes, conversion of categorical attributes to 'category' (If required), missing value detection, statistical summary. (10 Points)\n",
    "</span>\n",
    "<br>\n",
    "<br>\n",
    "<span style=\"font-family: monospace; font-size: 14px; padding-left: 3em\">\n",
    "Statistical Summary of the Raw Data:\n",
    "</span>\n",
    "<br>\n",
    "<br>\n",
    "<span style=\"font-family: monospace; font-size: 12px; padding-left: 5em\">\n",
    "type - 2 unique values - 'Movie' and 'TV Show' with frequency of 6131 and 2676 respectively.\n",
    "</span>\n",
    "<br>\n",
    "<br>\n",
    "<span style=\"font-family: monospace; font-size: 12px; padding-left: 5em\">\n",
    "title - 8807 unique values.\n",
    "</span>\n",
    "<br>\n",
    "<br>\n",
    "<span style=\"font-family: monospace; font-size: 12px; padding-left: 5em\">\n",
    "director - 4528 unique values with 'Rajiv Chilaka' occurring 19 times. 2634 NULL values.\n",
    "</span>\n",
    "<br>\n",
    "<br>\n",
    "<span style=\"font-family: monospace; font-size: 12px; padding-left: 5em\">\n",
    "cast - 7692 unique values with David Attenborough occurring 19 times. 825 NULL values.\n",
    "</span>\n",
    "<br>\n",
    "<br>\n",
    "<span style=\"font-family: monospace; font-size: 12px; padding-left: 5em\">\n",
    "country - 748 unique values with 'United States' occurring 2818 times. 831 NULL values.\n",
    "</span>\n",
    "<br>\n",
    "<br>\n",
    "<span style=\"font-family: monospace; font-size: 12px; padding-left: 5em\">\n",
    "date_added - 1714 unique values with '2020-01-01' occurring 110 times. 10 NULL values.\n",
    "</span>\n",
    "<br>\n",
    "<br>\n",
    "<span style=\"font-family: monospace; font-size: 12px; padding-left: 5em\">\n",
    "release_year - 74 unique values with '2018' occurring 1147 times.\n",
    "</span>\n",
    "<br>\n",
    "<br>\n",
    "<span style=\"font-family: monospace; font-size: 12px; padding-left: 5em\">\n",
    "rating - 17 unique values with 'TV-MA' occurring 3207 times. 4 NULL values.\n",
    "</span>\n",
    "<br>\n",
    "<br>\n",
    "<span style=\"font-family: monospace; font-size: 12px; padding-left: 5em\">\n",
    "duration - 220 unique values with '1 Season' occurring 1793 times. 3 NULL values.\n",
    "</span>\n",
    "<br>\n",
    "<br>\n",
    "<span style=\"font-family: monospace; font-size: 12px; padding-left: 5em\">\n",
    "listed_in - 514 unique values with 'Dramas, International Movies' occurring 362 times.\n",
    "</span>\n",
    "<br>\n",
    "<br>\n",
    "<span style=\"font-family: monospace; font-size: 12px; padding-left: 5em\">\n",
    "description - 8775 unique values with 'Paranormal activity at a lush, abandoned prope...' occurring 4 times.\n",
    "</span>\n",
    "<br>\n",
    "<br>\n",
    "<br>\n",
    "<br>\n",
    "<span style=\"font-family: monospace; font-size: 14px; padding-left: 3em\">\n",
    "Statistical Summary of the Processed Data:\n",
    "</span>\n",
    "<br>\n",
    "<br>\n",
    "<span style=\"font-family: monospace; font-size: 12px; padding-left: 5em\">\n",
    "type - 2 unique values - 'Movie' and 'TV Show' with frequency of 145305 and 56011 respectively.\n",
    "</span>\n",
    "<br>\n",
    "<br>\n",
    "<span style=\"font-family: monospace; font-size: 12px; padding-left: 5em\">\n",
    "title - 8777 unique values with 'Kahlil Gibran's The Prophet' occurring 700 times.\n",
    "</span>\n",
    "<br>\n",
    "<br>\n",
    "<span style=\"font-family: monospace; font-size: 12px; padding-left: 5em\">\n",
    "director - 4994 unique values with 'Anonymous' occurring 50497 times.\n",
    "</span>\n",
    "<br>\n",
    "<br>\n",
    "<span style=\"font-family: monospace; font-size: 12px; padding-left: 5em\">\n",
    "cast - 36433 unique values with 'Anonymous' occurring 2139 times.\n",
    "</span>\n",
    "<br>\n",
    "<br>\n",
    "<span style=\"font-family: monospace; font-size: 12px; padding-left: 5em\">\n",
    "country - 124 unique values with 'United States' occurring 59214 times.\n",
    "</span>\n",
    "<br>\n",
    "<br>\n",
    "<span style=\"font-family: monospace; font-size: 12px; padding-left: 5em\">\n",
    "date_added - 1719 unique values with '2020-01-01' occurring 3748 times.\n",
    "</span>\n",
    "<br>\n",
    "<br>\n",
    "<span style=\"font-family: monospace; font-size: 12px; padding-left: 5em\">\n",
    "release_year - 74 unique values with '2018' occurring 24198 times.\n",
    "</span>\n",
    "<br>\n",
    "<br>\n",
    "<span style=\"font-family: monospace; font-size: 12px; padding-left: 5em\">\n",
    "rating - 15 unique values with 'TV-MA' occurring 73675 times.\n",
    "</span>\n",
    "<br>\n",
    "<br>\n",
    "<span style=\"font-family: monospace; font-size: 12px; padding-left: 5em\">\n",
    "duration - Max value = 312; Min Value = 1; Mean Value = 77.58; Median Value = 95\n",
    "</span>\n",
    "<br>\n",
    "<br>\n",
    "<span style=\"font-family: monospace; font-size: 12px; padding-left: 5em\">\n",
    "listed_in - 42 unique values with 'Dramas' occurring 29713 times.\n",
    "</span>\n",
    "<br>\n",
    "<br>\n",
    "<span style=\"font-family: monospace; font-size: 12px; padding-left: 5em\">\n",
    "description - 8775 unique values with 'A troubled young girl and her mother find sola...' occurring 700 times.\n",
    "</span>\n",
    "<br>\n",
    "<br>\n",
    "<br>\n",
    "<span style=\"font-family: monospace; font-size: 12px;\">\n",
    "\n",
    "| Property of the Data | Raw Data Statistics | Processed Data Statistics |\n",
    "| -------------------- | ------------------- | ------------------------- |\n",
    "| Shape of the Data | (8807, 12) | (201364, 11) |\n",
    "| Data types of columns | int - release_year<br> object - all other columns | int - duration<br> object - all other columns |\n",
    "| Conversion of data types | release_year: int<br> duration: object | release_year: object<br> duration: int |\n",
    "| Missing Values | Present in director, cast, country, date_added, rating, duration | None Present|\n",
    "\n",
    "</span>\n",
    "<br>\n",
    "<hr>\n",
    "<br>\n",
    "<span style=\"font-family: monospace; font-size: 15px\">\n",
    "3. Non-Graphical Analysis: Value counts and unique attributes. ​​(10 Points)\n",
    "</span>\n",
    "<br>\n",
    "<br>\n",
    "<span style=\"font-family: monospace; font-size: 12px; padding-left: 3em\">\n",
    "a. There are almost 2.5 times Movie titles in our dataset than TV shows.\n",
    "</span>\n",
    "<br>\n",
    "<br>\n",
    "<span style=\"font-family: monospace; font-size: 12px; padding-left: 3em\">\n",
    "b. On exploding our data, a row in the original dataframe expanded to 700 for title Kahlil Gibran's The Prophet while few remained they were\n",
    "</span>\n",
    "<br>\n",
    "<br>\n",
    "<span style=\"font-family: monospace; font-size: 12px; padding-left: 3em\">\n",
    "c. Martin Scorsese occurs the most - 419 - number of times in our dataset; closely followed by Youssef Chahine - 409 times.\n",
    "</span>\n",
    "<br>\n",
    "<br>\n",
    "<span style=\"font-family: monospace; font-size: 12px; padding-left: 3em\">\n",
    "d. Liam Neeson occurs the most - 161 - number of times in our dataset; closely followed by Alfred Molina - 160 times.\n",
    "</span>\n",
    "<br>\n",
    "<br>\n",
    "<span style=\"font-family: monospace; font-size: 12px; padding-left: 3em\">\n",
    "e. Highest number of entries - 59214 - in our dataset corresponds to the US followed by India at 22733.\n",
    "</span>\n",
    "<br>\n",
    "<br>\n",
    "<span style=\"font-family: monospace; font-size: 12px; padding-left: 3em\">\n",
    "f. Most of the movies are added on the platform on 1st of the months.\n",
    "</span>\n",
    "<br>\n",
    "<br>\n",
    "<span style=\"font-family: monospace; font-size: 12px; padding-left: 3em\">\n",
    "g. More movies from recent years are present in our dataset.\n",
    "</span>\n",
    "<br>\n",
    "<br>\n",
    "<span style=\"font-family: monospace; font-size: 12px; padding-left: 3em\">\n",
    "h. Highest number of entries - 73695 - in our dataset corresponds to the TV-MA followed by TV-14 at 43597.\n",
    "</span>\n",
    "<br>\n",
    "<br>\n",
    "<span style=\"font-family: monospace; font-size: 12px; padding-left: 3em\">\n",
    "i. Highest number of entries - 29713 - in our dataset corresponds to the Dramas followed by International Movies at 28084.\n",
    "</span>\n",
    "<br>\n",
    "<br>\n",
    "<span style=\"font-family: monospace; font-size: 12px; padding-left: 3em\">\n",
    "j. Note: Number of unique values in all these columns are mentioned in the Statistical Summary in the asnwer of Q2.\n",
    "</span>\n",
    "<br>\n",
    "<br>\n",
    "<hr>\n",
    "<br>\n",
    "<span style=\"font-family: monospace; font-size: 15px\">\n",
    "4. Visual Analysis - Univariate, Bivariate after pre-processing of the data. Note: Pre-processing involves unnesting of the data in columns like Actor, Director, Country.\n",
    "</span>\n",
    "<br>\n",
    "<br>\n",
    "<span style=\"font-family: monospace; font-size: 12px; padding-left: 3em\">\n",
    "Refer to Figure 1 through 15.\n",
    "</span>\n",
    "<br>\n",
    "<br>\n",
    "<hr>\n",
    "<br>\n",
    "<span style=\"font-family: monospace; font-size: 15px\">\n",
    "5. Missing Value & Outlier check (Treatment optional). (10 Points)\n",
    "</span>\n",
    "<br>\n",
    "<br>\n",
    "<span style=\"font-family: monospace; font-size: 12px; padding-left: 3em\">\n",
    "Missing values were observed in columns director, cast, country, date_added, rating, duration columns and were treated as follows:\n",
    "</span>\n",
    "<br>\n",
    "<br>\n",
    "<span style=\"font-family: monospace; font-size: 12px; padding-left: 5em\">\n",
    "-  For columns director and cast, NaNs were replaced with \"Anonymous\"\n",
    "</span>\n",
    "<br>\n",
    "<br>\n",
    "<span style=\"font-family: monospace; font-size: 12px; padding-left: 5em\">\n",
    "- For columns country and rating, NaNs were replaced with \"Not Available\"\n",
    "</span>\n",
    "<br>\n",
    "<br>\n",
    "<span style=\"font-family: monospace; font-size: 12px; padding-left: 5em\">\n",
    "- For column date_added, NaTs were replaced with 31st December of the content released year.\n",
    "</span>\n",
    "<br>\n",
    "<br>\n",
    "<span style=\"font-family: monospace; font-size: 12px; padding-left: 5em\">\n",
    "- For column duration, NaNs were a result of wrong data entry; these values were present in the corresponding rows of rating column.\n",
    "</span>\n",
    "<br>\n",
    "<br>\n",
    "<br>\n",
    "<br>\n",
    "<span style=\"font-family: monospace; font-size: 12px; padding-left: 3em\">\n",
    "Outliers were observed in columns duration and date_added & release_year.\n",
    "</span>\n",
    "<br>\n",
    "<br>\n",
    "<span style=\"font-family: monospace; font-size: 12px; padding-left: 5em\">\n",
    "- Refer to Figure 16 and 17 and Inference 28 to 30.\n",
    "</span>\n",
    "<br>\n",
    "<br>\n",
    "<hr>\n",
    "<br>\n",
    "<span style=\"font-family: monospace; font-size: 15px\">\n",
    "6. Insights based on Non-Graphical and Visual Analysis. (10 Points)\n",
    "</span>\n",
    "<br>\n",
    "<br>\n",
    "<span style=\"font-family: monospace; font-size: 12px; padding-left: 3em\">\n",
    "Refer to Inference A to I and 1 to 30.\n",
    "</span>\n",
    "<br>\n",
    "<br>\n",
    "<span style=\"font-family: monospace; font-size: 12px; padding-left: 3em\">\n",
    "Comments on range of columns - date_added, release_year, and duration.\n",
    "</span>\n",
    "<br>\n",
    "<br>\n",
    "<span style=\"font-family: monospace; font-size: 12px; padding-left: 5em\">\n",
    "- Netflix added its first content on Dec 31st, 2003. The latest content was uploaded on the platform on Sept 25th, 2021\n",
    "</span>\n",
    "<br>\n",
    "<br>\n",
    "<span style=\"font-family: monospace; font-size: 12px; padding-left: 5em\">\n",
    "- Netflix added its first content on Dec 31st, 2003. The latest content was uploaded on the platform on Sept 25th, 2021\n",
    "</span>\n",
    "<br>\n",
    "<br>\n",
    "<span style=\"font-family: monospace; font-size: 12px; padding-left: 5em\">\n",
    "- Duration of a movie on Netflix ranges from 3 to 312 minutes.\n",
    "</span>\n",
    "<br>\n",
    "<br>\n",
    "<span style=\"font-family: monospace; font-size: 12px; padding-left: 5em\">\n",
    "- TV Shows on Netflix have a mximum of 17 seasons while minimum being 1.\n",
    "</span>\n",
    "<br>\n",
    "<br>\n",
    "<hr>\n",
    "<br>\n",
    "<span style=\"font-family: monospace; font-size: 15px\">\n",
    "7. Business Insights (10 Points) - Should include patterns observed in the data along with what you can infer from it.\n",
    "</span>\n",
    "<br>\n",
    "<br>\n",
    "<span style=\"font-family: monospace; font-size: 12px; padding-left: 3em\">\n",
    "Please refer to Infrence 1 to 30 above for detailed answer of this question. Some of the most valuable insights are written below.\n",
    "</span>\n",
    "<br>\n",
    "<br>\n",
    "<span style=\"font-family: monospace; font-size: 12px; padding-left: 5em\">\n",
    "- International Movies and TV Shows are preferred by audience all across the globe.\n",
    "</span>\n",
    "<br>\n",
    "<br>\n",
    "<span style=\"font-family: monospace; font-size: 12px; padding-left: 5em\">\n",
    "- TV-MA, TV-14, and R are the most common ratings among the customer-base of Netflix.\n",
    "</span>\n",
    "<br>\n",
    "<br>\n",
    "<span style=\"font-family: monospace; font-size: 12px; padding-left: 5em\">\n",
    "- Movies and TV Shows from US, India, and UK are the most popular ones among the people.\n",
    "</span>\n",
    "<br>\n",
    "<br>\n",
    "<span style=\"font-family: monospace; font-size: 12px; padding-left: 5em\">\n",
    "- Dramas, Comedies, and Documentaries are the most common genres for TV Shows.\n",
    "</span>\n",
    "<br>\n",
    "<br>\n",
    "<span style=\"font-family: monospace; font-size: 12px; padding-left: 5em\">\n",
    "- Dramas, Comedies, Documentaries, and Classical are the most common genres for Movies.\n",
    "</span>\n",
    "<br>\n",
    "<br>\n",
    "<span style=\"font-family: monospace; font-size: 12px; padding-left: 5em\">\n",
    "- Audience love watching TV Shows with less then 2 seasons and Movies about 100 minutes long.\n",
    "</span>\n",
    "<br>\n",
    "<br>\n",
    "<hr>\n",
    "<br>\n",
    "<span style=\"font-family: monospace; font-size: 15px\">\n",
    "8. Recommendations (10 Points) - Actionable items for business. No technical jargon. No complications. Simple action items that everyone can understand.\n",
    "</span>\n",
    "<br>\n",
    "<br>\n",
    "<span style=\"font-family: monospace; font-size: 12px; padding-left: 3em\">\n",
    "\n",
    "- Netflix can introduce regional content in most popular genres (Dramas, Comedies, and Documentaries) and ratings (TV-MA, TV-14, and R) to increase its customer base in less popular regions for example Europe and Africa.\n",
    "\n",
    "- Netflix can produce longer movies and shows in the popular genres - Dramas, Comedies, and Documentaries - because these genres are loved by the audience and new shows will not find it hard to find people's love. This would account for recurring payments for Netflix because longer shows will span over months or years and people would have to pay to watch what they love.\n",
    "\n",
    "- Since most of the movies and shows on Netflix are added in the first week of the month, the Engineering Team should maintain and scale servers accordingly for this week and also for the rest of the month.\n",
    "\n",
    "- Since the database does not have many old movies or shows, it is worth the shot to add these contents on Netflix to see if they get any traction from the audience.\n",
    "\n",
    "- Add new movies and shows belonging to less popular ratings and genres to give audience more options in these unppopular areas to watch from and who know they may love the new content.\n",
    "\n",
    "- Netflix can introduce a weekly subscription plan that is valid only for the first week of a month. Since most of the new movies and shows are added in the first week, people signing up for this subscription will try to consume as much content as possible and this could form a habit and thus produce a loyal customer of Netflix.\n",
    "\n",
    "- Netflix can bring together most popular cast members and directors under one umbrella to produce shows and movies that would be popular and accepted by a very large base of audience.\n",
    "</span>\n",
    "<br>"
   ]
  },
  {
   "cell_type": "code",
   "execution_count": null,
   "metadata": {},
   "outputs": [],
   "source": []
  }
 ],
 "metadata": {
  "kernelspec": {
   "display_name": "Python 3 (ipykernel)",
   "language": "python",
   "name": "python3"
  },
  "language_info": {
   "codemirror_mode": {
    "name": "ipython",
    "version": 3
   },
   "file_extension": ".py",
   "mimetype": "text/x-python",
   "name": "python",
   "nbconvert_exporter": "python",
   "pygments_lexer": "ipython3",
   "version": "3.9.16"
  },
  "vscode": {
   "interpreter": {
    "hash": "2212df053153605b898d35cc5b473d7781f275457513d973f138c38b816aa27f"
   }
  }
 },
 "nbformat": 4,
 "nbformat_minor": 2
}
